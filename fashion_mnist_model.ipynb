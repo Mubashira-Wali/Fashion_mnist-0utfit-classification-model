{
  "nbformat": 4,
  "nbformat_minor": 0,
  "metadata": {
    "colab": {
      "name": "fashion-mnist-model.ipynb",
      "provenance": [],
      "authorship_tag": "ABX9TyPMwoc2duNlOzfOH43F0zwF",
      "include_colab_link": true
    },
    "kernelspec": {
      "name": "python3",
      "display_name": "Python 3"
    }
  },
  "cells": [
    {
      "cell_type": "markdown",
      "metadata": {
        "id": "view-in-github",
        "colab_type": "text"
      },
      "source": [
        "<a href=\"https://colab.research.google.com/github/Mubashira-Wali/Fashion_mnist-0utfit-classification-model/blob/master/fashion_mnist_model.ipynb\" target=\"_parent\"><img src=\"https://colab.research.google.com/assets/colab-badge.svg\" alt=\"Open In Colab\"/></a>"
      ]
    },
    {
      "cell_type": "code",
      "metadata": {
        "id": "Ivx6MJbW0jnC",
        "colab_type": "code",
        "colab": {}
      },
      "source": [
        "# upgrading tensorflow first \n",
        "!pip install --upgrade tensorflow"
      ],
      "execution_count": 0,
      "outputs": []
    },
    {
      "cell_type": "code",
      "metadata": {
        "id": "pca0XxRG0rHh",
        "colab_type": "code",
        "outputId": "885eaaf2-c8cc-433f-b281-dbac1a3caac4",
        "colab": {
          "base_uri": "https://localhost:8080/",
          "height": 34
        }
      },
      "source": [
        "#importing tensorflow and keras\n",
        "import tensorflow as tf\n",
        "print(tf.__version__)"
      ],
      "execution_count": 0,
      "outputs": [
        {
          "output_type": "stream",
          "text": [
            "2.1.0\n"
          ],
          "name": "stdout"
        }
      ]
    },
    {
      "cell_type": "code",
      "metadata": {
        "id": "ZKDVJv0T1F7y",
        "colab_type": "code",
        "colab": {}
      },
      "source": [
        "# Keras provides a handy API to download the FASHION_MNIST dataset, and split them into\n",
        "# \"train\" dataset and \"test\" dataset.\n",
        "mnist = tf.keras.datasets.fashion_mnist\n",
        "(train_images,train_labels),(test_images,test_labels)=mnist.load_data()"
      ],
      "execution_count": 0,
      "outputs": []
    },
    {
      "cell_type": "code",
      "metadata": {
        "id": "B8dBNN6H1235",
        "colab_type": "code",
        "colab": {}
      },
      "source": [
        "# Normalize the input image so that each pixel value is between 0 to 1.\n",
        "train_images = train_images / 255.0\n",
        "test_images = test_images / 255.0"
      ],
      "execution_count": 0,
      "outputs": []
    },
    {
      "cell_type": "code",
      "metadata": {
        "id": "W_Xjv85I3BDB",
        "colab_type": "code",
        "colab": {}
      },
      "source": [
        "# Define the model architecture\n",
        "model = tf.keras.models.Sequential([tf.keras.layers.Flatten(),\n",
        "                                    tf.keras.layers.Dense(512, activation=tf.nn.relu),\n",
        "                                    tf.keras.layers.Dense(10, activation=tf.nn.softmax)])"
      ],
      "execution_count": 0,
      "outputs": []
    },
    {
      "cell_type": "code",
      "metadata": {
        "id": "_j4iqyTn6qv_",
        "colab_type": "code",
        "colab": {}
      },
      "source": [
        "# Define how to train the model\n",
        "model.compile(optimizer=tf.keras.optimizers.Adam(),\n",
        "              loss='sparse_categorical_crossentropy',\n",
        "              metrics=['accuracy'])"
      ],
      "execution_count": 0,
      "outputs": []
    },
    {
      "cell_type": "code",
      "metadata": {
        "id": "mtnzRWvY781y",
        "colab_type": "code",
        "outputId": "ae3bad83-4518-47b4-a6de-f46a29783675",
        "colab": {
          "base_uri": "https://localhost:8080/",
          "height": 221
        }
      },
      "source": [
        "# Train the outfit classification model\n",
        "model.fit(train_images, train_labels, epochs=5, batch_size=128)"
      ],
      "execution_count": 0,
      "outputs": [
        {
          "output_type": "stream",
          "text": [
            "Train on 60000 samples\n",
            "Epoch 1/5\n",
            "60000/60000 [==============================] - 4s 70us/sample - loss: 0.5009 - accuracy: 0.8245\n",
            "Epoch 2/5\n",
            "60000/60000 [==============================] - 4s 65us/sample - loss: 0.3747 - accuracy: 0.8658\n",
            "Epoch 3/5\n",
            "60000/60000 [==============================] - 4s 66us/sample - loss: 0.3310 - accuracy: 0.8789\n",
            "Epoch 4/5\n",
            "60000/60000 [==============================] - 4s 66us/sample - loss: 0.3066 - accuracy: 0.8883\n",
            "Epoch 5/5\n",
            "60000/60000 [==============================] - 4s 67us/sample - loss: 0.2860 - accuracy: 0.8952\n"
          ],
          "name": "stdout"
        },
        {
          "output_type": "execute_result",
          "data": {
            "text/plain": [
              "<tensorflow.python.keras.callbacks.History at 0x7f8c2d18c748>"
            ]
          },
          "metadata": {
            "tags": []
          },
          "execution_count": 6
        }
      ]
    },
    {
      "cell_type": "code",
      "metadata": {
        "id": "ZFEoWZcE8Tpn",
        "colab_type": "code",
        "outputId": "1cba5da9-387c-4014-ecaa-b050f6ce1d14",
        "colab": {
          "base_uri": "https://localhost:8080/",
          "height": 51
        }
      },
      "source": [
        "# Evaluate the model using all images in the test dataset.\n",
        "model.evaluate(test_images, test_labels)"
      ],
      "execution_count": 0,
      "outputs": [
        {
          "output_type": "stream",
          "text": [
            "10000/10000 [==============================] - 1s 79us/sample - loss: 0.3667 - accuracy: 0.8714\n"
          ],
          "name": "stdout"
        },
        {
          "output_type": "execute_result",
          "data": {
            "text/plain": [
              "[0.3667489805340767, 0.8714]"
            ]
          },
          "metadata": {
            "tags": []
          },
          "execution_count": 7
        }
      ]
    },
    {
      "cell_type": "code",
      "metadata": {
        "id": "sioz6nEC89H9",
        "colab_type": "code",
        "colab": {}
      },
      "source": [
        "import matplotlib"
      ],
      "execution_count": 0,
      "outputs": []
    },
    {
      "cell_type": "code",
      "metadata": {
        "id": "-Smudk0yK2QB",
        "colab_type": "code",
        "outputId": "a7a68402-1e8c-47d9-804b-606240ada975",
        "colab": {
          "base_uri": "https://localhost:8080/",
          "height": 265
        }
      },
      "source": [
        "# plotting the 8th image in the train dataset\n",
        "import matplotlib.pyplot as plt\n",
        "digit = train_images[8]\n",
        "plt.imshow(digit, cmap=plt.cm.binary)\n",
        "plt.show()"
      ],
      "execution_count": 0,
      "outputs": [
        {
          "output_type": "display_data",
          "data": {
            "image/png": "[encoded data removed]",
            "text/plain": [
              "<Figure size 432x288 with 1 Axes>"
            ]
          },
          "metadata": {
            "tags": []
          }
        }
      ]
    },
    {
      "cell_type": "code",
      "metadata": {
        "id": "1OWXs7WiMFmi",
        "colab_type": "code",
        "colab": {}
      },
      "source": [
        ""
      ],
      "execution_count": 0,
      "outputs": []
    },
    {
      "cell_type": "code",
      "metadata": {
        "id": "hPzHhJSpMJKP",
        "colab_type": "code",
        "colab": {}
      },
      "source": [
        ""
      ],
      "execution_count": 0,
      "outputs": []
    }
  ]
}